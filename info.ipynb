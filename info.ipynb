{
 "cells": [
  {
   "cell_type": "markdown",
   "id": "4b76ff84",
   "metadata": {},
   "source": [
    "# ATM Logging\n",
    "\n",
    "You are developing a mobile ATM application that will handle bank transactions such as deposits and withdrawals. With the original design of this application, you used print statements to print helpful information to the console, such as amounts entered for each transaction, transaction status, and date and timestamps to see when each transaction occurred.\n",
    "\n",
    "The goal of this project is to modify the existing BankAccount methods to utilize the logging module instead of print statements. Using the logging module over print statements will help make the project code more readable and maintainable after these modifications are made.\n",
    "\n",
    "A solution.py file is also loaded for you in the workspace, which contains solution code for this project. We highly recommend that you complete the project on your own without checking the solution, but feel free to take a look if you get stuck or want to check your answers when you’re done!"
   ]
  },
  {
   "cell_type": "markdown",
   "id": "0f9d535f",
   "metadata": {},
   "source": [
    "## Sample Testing\n",
    "\n",
    "### Example 1\n",
    "\n",
    "Execute the code and supply the following inputs:\n",
    "\n",
    "Deposit: $50\n",
    "\n",
    "Withdraw: $200\n",
    "\n",
    "View the saved log file or the console and verify that an error was logged for insufficient funds for the withdrawal transaction.\n",
    "\n",
    "\n",
    "### Example 2\n",
    "\n",
    "Re-execute the code and supply the following inputs:\n",
    "\n",
    "Deposit: $50\n",
    "Withdraw: $10\n",
    "View the saved log file to see the successful deposit and withdrawal transactions."
   ]
  }
 ],
 "metadata": {
  "kernelspec": {
   "display_name": "py313",
   "language": "python",
   "name": "python3"
  },
  "language_info": {
   "name": "python",
   "version": "3.13.3"
  }
 },
 "nbformat": 4,
 "nbformat_minor": 5
}
